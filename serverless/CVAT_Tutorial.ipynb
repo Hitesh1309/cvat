{
 "cells": [
  {
   "cell_type": "markdown",
   "id": "a5dc18a0-d3c8-46b7-8003-e8d486647188",
   "metadata": {},
   "source": [
    "# Defect Detection in Additive Manufacturing Microscopic Images"
   ]
  },
  {
   "cell_type": "code",
   "execution_count": 1,
   "id": "7d3a0a90",
   "metadata": {},
   "outputs": [
    {
     "name": "stderr",
     "output_type": "stream",
     "text": [
      "2024-04-01 09:49:39.523777: I tensorflow/core/util/port.cc:113] oneDNN custom operations are on. You may see slightly different numerical results due to floating-point round-off errors from different computation orders. To turn them off, set the environment variable `TF_ENABLE_ONEDNN_OPTS=0`.\n",
      "2024-04-01 09:49:39.548905: I tensorflow/core/platform/cpu_feature_guard.cc:210] This TensorFlow binary is optimized to use available CPU instructions in performance-critical operations.\n",
      "To enable the following instructions: AVX2 AVX_VNNI FMA, in other operations, rebuild TensorFlow with the appropriate compiler flags.\n",
      "2024-04-01 09:49:40.022458: W tensorflow/compiler/tf2tensorrt/utils/py_utils.cc:38] TF-TRT Warning: Could not find TensorRT\n"
     ]
    }
   ],
   "source": [
    "from utils import *\n",
    "from model import *"
   ]
  },
  {
   "cell_type": "markdown",
   "id": "bbca2191",
   "metadata": {},
   "source": [
    "#### Uncomment and Run the below code if cvat is not cloned."
   ]
  },
  {
   "cell_type": "code",
   "execution_count": 3,
   "id": "eade4f42-e747-48e1-87ee-1ea6ddb26bf7",
   "metadata": {},
   "outputs": [],
   "source": [
    "# !git clone https://github.com/Hitesh1309/cvat.git"
   ]
  },
  {
   "cell_type": "markdown",
   "id": "8be37653-36b7-40ae-b1ba-b72f14853b80",
   "metadata": {},
   "source": [
    "### After cloning the cvat repository, make sure you complete the installation.\n",
    "\n",
    "#### Uncomment and Run the below code if installation is not Done."
   ]
  },
  {
   "cell_type": "code",
   "execution_count": 7,
   "id": "463a381c",
   "metadata": {},
   "outputs": [
    {
     "data": {
      "text/html": [
       "<button style=\"background-color: #000000; color: white; padding: 10px 24px; cursor: pointer; border: none; border-radius: 5px;\" onclick=\"window.open('https://opencv.github.io/cvat/docs/administration/advanced/installation_automatic_annotation/', '_blank')\">Installation Guide</button>"
      ],
      "text/plain": [
       "<IPython.core.display.HTML object>"
      ]
     },
     "metadata": {},
     "output_type": "display_data"
    }
   ],
   "source": [
    "installation_guide()"
   ]
  },
  {
   "cell_type": "markdown",
   "id": "4e4c7224",
   "metadata": {},
   "source": [
    "### Run the below code to bring up cvat."
   ]
  },
  {
   "cell_type": "code",
   "execution_count": 8,
   "id": "94cd560a-9589-41f0-8f60-9a66a0113b7d",
   "metadata": {},
   "outputs": [
    {
     "name": "stdout",
     "output_type": "stream",
     "text": [
      "All containers are up and running.\n"
     ]
    },
    {
     "name": "stderr",
     "output_type": "stream",
     "text": [
      " Container cvat_opa  Running\n",
      " Container cvat_redis_ondisk  Running\n",
      " Container cvat_redis_inmem  Running\n",
      " Container nuclio  Running\n",
      " Container cvat_clickhouse  Running\n",
      " Container cvat_db  Running\n",
      " Container traefik  Running\n",
      " Container cvat_worker_export  Running\n",
      " Container cvat_worker_import  Running\n",
      " Container cvat_worker_analytics_reports  Running\n",
      " Container cvat_grafana  Running\n",
      " Container cvat_utils  Running\n",
      " Container cvat_vector  Running\n",
      " Container cvat_worker_webhooks  Running\n",
      " Container cvat_worker_annotation  Running\n",
      " Container cvat_worker_quality_reports  Running\n",
      " Container cvat_server  Running\n",
      " Container cvat_ui  Running\n"
     ]
    }
   ],
   "source": [
    "run_docker_compose_and_return('./cvat')"
   ]
  },
  {
   "cell_type": "code",
   "execution_count": 9,
   "id": "53401e88",
   "metadata": {},
   "outputs": [
    {
     "data": {
      "text/html": [
       "<button style=\"background-color: #000000; color: white; padding: 10px 24px; cursor: pointer; border: none; border-radius: 5px;\" onclick=\"window.open('http://localhost:8080', '_blank')\">CVAT</button>"
      ],
      "text/plain": [
       "<IPython.core.display.HTML object>"
      ]
     },
     "metadata": {},
     "output_type": "display_data"
    }
   ],
   "source": [
    "open_cvat()"
   ]
  },
  {
   "cell_type": "code",
   "execution_count": 10,
   "id": "d66a0b6e",
   "metadata": {},
   "outputs": [
    {
     "data": {
      "text/html": [
       "<button style=\"background-color: #000000; color: white; padding: 10px 24px; cursor: pointer; border: none; border-radius: 5px;\" onclick=\"window.open('http://localhost:8070', '_blank')\">Nuclio</button>"
      ],
      "text/plain": [
       "<IPython.core.display.HTML object>"
      ]
     },
     "metadata": {},
     "output_type": "display_data"
    }
   ],
   "source": [
    "open_nuclio()"
   ]
  },
  {
   "cell_type": "markdown",
   "id": "60dfeb8e",
   "metadata": {},
   "source": [
    "#### Make sure you have the training images which have the ground truth in the folder named *Training Images*, which has two subfolders - Images and Masks. "
   ]
  },
  {
   "cell_type": "code",
   "execution_count": 2,
   "id": "d2285b17",
   "metadata": {},
   "outputs": [
    {
     "name": "stdout",
     "output_type": "stream",
     "text": [
      "Number of files in the folder './Training Images/Masks': 2\n",
      "Number of files in the folder './Training Images/Images': 2\n"
     ]
    }
   ],
   "source": [
    "# change the path to the folder which has the images\n",
    "folder_path = './Training Images'\n",
    "\n",
    "count_files_in_folder(folder_path)"
   ]
  },
  {
   "cell_type": "markdown",
   "id": "e71bd0aa",
   "metadata": {},
   "source": [
    "### Create the job in CVAT. \n",
    "Refer - https://opencv.github.io/cvat/docs/api_sdk/cli/"
   ]
  },
  {
   "cell_type": "code",
   "execution_count": null,
   "id": "52d28b76",
   "metadata": {},
   "outputs": [],
   "source": [
    "# write code for creating a job from the command line"
   ]
  },
  {
   "cell_type": "markdown",
   "id": "40dfe4a8",
   "metadata": {},
   "source": [
    "### Training the Model."
   ]
  },
  {
   "cell_type": "code",
   "execution_count": 3,
   "id": "42c438e9",
   "metadata": {},
   "outputs": [
    {
     "name": "stdout",
     "output_type": "stream",
     "text": [
      "(2, 480, 640, 1) (2, 480, 640, 1)\n"
     ]
    }
   ],
   "source": [
    "# Load the data for training the model.\n",
    "images, masks = load_images_and_masks(folder_path)\n",
    "print(images.shape, masks.shape)"
   ]
  },
  {
   "cell_type": "code",
   "execution_count": 9,
   "id": "d04ac444",
   "metadata": {},
   "outputs": [
    {
     "name": "stdout",
     "output_type": "stream",
     "text": [
      "Epoch 1/10\n"
     ]
    },
    {
     "name": "stderr",
     "output_type": "stream",
     "text": [
      "2024-04-01 09:54:38.786152: I external/local_xla/xla/stream_executor/cuda/cuda_executor.cc:998] successful NUMA node read from SysFS had negative value (-1), but there must be at least one NUMA node, so returning NUMA node zero. See more at https://github.com/torvalds/linux/blob/v6.0/Documentation/ABI/testing/sysfs-bus-pci#L344-L355\n",
      "2024-04-01 09:54:38.818374: W tensorflow/core/common_runtime/gpu/gpu_device.cc:2251] Cannot dlopen some GPU libraries. Please make sure the missing libraries mentioned above are installed properly if you would like to use GPU. Follow the guide at https://www.tensorflow.org/install/gpu for how to download and setup the required libraries for your platform.\n",
      "Skipping registering GPU devices...\n"
     ]
    },
    {
     "name": "stdout",
     "output_type": "stream",
     "text": [
      "\u001b[1m2/2\u001b[0m \u001b[32m━━━━━━━━━━━━━━━━━━━━\u001b[0m\u001b[37m\u001b[0m \u001b[1m191s\u001b[0m 95s/step - accuracy: 0.9088 - loss: 0.5499\n",
      "Epoch 2/10\n",
      "\u001b[1m2/2\u001b[0m \u001b[32m━━━━━━━━━━━━━━━━━━━━\u001b[0m\u001b[37m\u001b[0m \u001b[1m192s\u001b[0m 96s/step - accuracy: 0.9797 - loss: 0.4685\n",
      "Epoch 3/10\n",
      "\u001b[1m2/2\u001b[0m \u001b[32m━━━━━━━━━━━━━━━━━━━━\u001b[0m\u001b[37m\u001b[0m \u001b[1m193s\u001b[0m 96s/step - accuracy: 0.9845 - loss: 0.3852\n",
      "Epoch 4/10\n",
      "\u001b[1m2/2\u001b[0m \u001b[32m━━━━━━━━━━━━━━━━━━━━\u001b[0m\u001b[37m\u001b[0m \u001b[1m193s\u001b[0m 97s/step - accuracy: 0.9776 - loss: 0.3032\n",
      "Epoch 5/10\n",
      "\u001b[1m2/2\u001b[0m \u001b[32m━━━━━━━━━━━━━━━━━━━━\u001b[0m\u001b[37m\u001b[0m \u001b[1m193s\u001b[0m 97s/step - accuracy: 0.9783 - loss: 0.2308\n",
      "Epoch 6/10\n",
      "\u001b[1m2/2\u001b[0m \u001b[32m━━━━━━━━━━━━━━━━━━━━\u001b[0m\u001b[37m\u001b[0m \u001b[1m194s\u001b[0m 97s/step - accuracy: 0.9827 - loss: 0.1783\n",
      "Epoch 7/10\n",
      "\u001b[1m2/2\u001b[0m \u001b[32m━━━━━━━━━━━━━━━━━━━━\u001b[0m\u001b[37m\u001b[0m \u001b[1m194s\u001b[0m 97s/step - accuracy: 0.9843 - loss: 0.1472\n",
      "Epoch 8/10\n",
      "\u001b[1m2/2\u001b[0m \u001b[32m━━━━━━━━━━━━━━━━━━━━\u001b[0m\u001b[37m\u001b[0m \u001b[1m194s\u001b[0m 97s/step - accuracy: 0.9856 - loss: 0.1219\n",
      "Epoch 9/10\n",
      "\u001b[1m2/2\u001b[0m \u001b[32m━━━━━━━━━━━━━━━━━━━━\u001b[0m\u001b[37m\u001b[0m \u001b[1m192s\u001b[0m 96s/step - accuracy: 0.9891 - loss: 0.1077\n",
      "Epoch 10/10\n",
      "\u001b[1m2/2\u001b[0m \u001b[32m━━━━━━━━━━━━━━━━━━━━\u001b[0m\u001b[37m\u001b[0m \u001b[1m191s\u001b[0m 95s/step - accuracy: 0.9883 - loss: 0.0935\n"
     ]
    }
   ],
   "source": [
    "# Instantiate and compile the U-Net model\n",
    "model = unet(input_size=(480, 640, 1))\n",
    "model.compile(optimizer='adam', loss='binary_crossentropy', metrics=['accuracy'])\n",
    "\n",
    "# Train the model \n",
    "history = model.fit(images, masks, epochs=10, batch_size=1)"
   ]
  },
  {
   "cell_type": "markdown",
   "id": "27ff4652",
   "metadata": {},
   "source": [
    "#### Saving the model"
   ]
  },
  {
   "cell_type": "code",
   "execution_count": 11,
   "id": "c837ac3b",
   "metadata": {},
   "outputs": [],
   "source": [
    "# save the model as model_new.keras\n",
    "model.save(\"model_new.keras\")"
   ]
  },
  {
   "cell_type": "markdown",
   "id": "c3450869",
   "metadata": {},
   "source": [
    "### Upload the model in the Google Drive following the below link. \n",
    "(Find an alternate way)"
   ]
  },
  {
   "cell_type": "code",
   "execution_count": 4,
   "id": "73f2bb46-706f-4653-8e3a-cf0cd02ac898",
   "metadata": {},
   "outputs": [
    {
     "data": {
      "text/html": [
       "<div id=\"target_cell\"></div>"
      ],
      "text/plain": [
       "<IPython.core.display.HTML object>"
      ]
     },
     "metadata": {},
     "output_type": "display_data"
    }
   ],
   "source": [
    "from IPython.display import display, HTML\n",
    "display(HTML('<div id=\"target_cell\"></div>'))"
   ]
  },
  {
   "cell_type": "code",
   "execution_count": 5,
   "id": "3f0eb5cc",
   "metadata": {},
   "outputs": [
    {
     "data": {
      "text/html": [
       "\n",
       "    <a href=\"https://drive.google.com/drive/u/0/folders/1HpGcFUbKsUYh_rpONaPiQjcu5WJZcp3T\" target=\"_blank\" style=\"text-decoration: none;\">\n",
       "        <button style=\"background-color: #000000; color: white; padding: 10px 24px; cursor: pointer; border: none; border-radius: 5px;\">\n",
       "            <img src=\"https://upload.wikimedia.org/wikipedia/commons/thumb/1/12/Google_Drive_icon_%282020%29.svg/1200px-Google_Drive_icon_%282020%29.svg.png\" alt=\"Google Drive\" style=\"width: 24px; height: 24px; vertical-align: middle; margin-right: 5px;\">\n",
       "            Google Drive\n",
       "        </button>\n",
       "    </a>\n",
       "    "
      ],
      "text/plain": [
       "<IPython.core.display.HTML object>"
      ]
     },
     "metadata": {},
     "output_type": "display_data"
    }
   ],
   "source": [
    "open_google_drive_folder()"
   ]
  },
  {
   "cell_type": "markdown",
   "id": "edef581e",
   "metadata": {},
   "source": [
    "### Deploy the model into CVAT"
   ]
  },
  {
   "cell_type": "code",
   "execution_count": 6,
   "id": "1820e585",
   "metadata": {},
   "outputs": [
    {
     "name": "stdout",
     "output_type": "stream",
     "text": [
      "\u001b[1A\u001b[1B\u001b[0G\u001b[?25l[+] Building 0.0s (0/1)                                          docker:default\n",
      "\u001b[?25h\u001b[1A\u001b[0G\u001b[?25l[+] Building 0.2s (1/2)                                          docker:default\n",
      "\u001b[34m => [internal] load build definition from Dockerfile                       0.0s\n",
      "\u001b[0m\u001b[34m => => transferring dockerfile: 418B                                       0.0s\n",
      "\u001b[0m => [internal] load metadata for docker.io/openvino/ubuntu20_runtime:2022  0.2s\n",
      "\u001b[?25h\u001b[1A\u001b[1A\u001b[1A\u001b[1A\u001b[0G\u001b[?25l[+] Building 0.3s (1/2)                                          docker:default\n",
      "\u001b[34m => [internal] load build definition from Dockerfile                       0.0s\n",
      "\u001b[0m\u001b[34m => => transferring dockerfile: 418B                                       0.0s\n",
      "\u001b[0m => [internal] load metadata for docker.io/openvino/ubuntu20_runtime:2022  0.3s\n",
      "\u001b[?25h\u001b[1A\u001b[1A\u001b[1A\u001b[1A\u001b[0G\u001b[?25l[+] Building 0.5s (1/2)                                          docker:default\n",
      "\u001b[34m => [internal] load build definition from Dockerfile                       0.0s\n",
      "\u001b[0m\u001b[34m => => transferring dockerfile: 418B                                       0.0s\n",
      "\u001b[0m => [internal] load metadata for docker.io/openvino/ubuntu20_runtime:2022  0.5s\n",
      "\u001b[?25h\u001b[1A\u001b[1A\u001b[1A\u001b[1A\u001b[0G\u001b[?25l[+] Building 0.6s (1/2)                                          docker:default\n",
      "\u001b[34m => [internal] load build definition from Dockerfile                       0.0s\n",
      "\u001b[0m\u001b[34m => => transferring dockerfile: 418B                                       0.0s\n",
      "\u001b[0m => [internal] load metadata for docker.io/openvino/ubuntu20_runtime:2022  0.6s\n",
      "\u001b[?25h\u001b[1A\u001b[1A\u001b[1A\u001b[1A\u001b[0G\u001b[?25l[+] Building 0.8s (1/2)                                          docker:default\n",
      "\u001b[34m => [internal] load build definition from Dockerfile                       0.0s\n",
      "\u001b[0m\u001b[34m => => transferring dockerfile: 418B                                       0.0s\n",
      "\u001b[0m => [internal] load metadata for docker.io/openvino/ubuntu20_runtime:2022  0.8s\n",
      "\u001b[?25h\u001b[1A\u001b[1A\u001b[1A\u001b[1A\u001b[0G\u001b[?25l[+] Building 0.9s (1/2)                                          docker:default\n",
      "\u001b[34m => [internal] load build definition from Dockerfile                       0.0s\n",
      "\u001b[0m\u001b[34m => => transferring dockerfile: 418B                                       0.0s\n",
      "\u001b[0m => [internal] load metadata for docker.io/openvino/ubuntu20_runtime:2022  0.9s\n",
      "\u001b[?25h\u001b[1A\u001b[1A\u001b[1A\u001b[1A\u001b[0G\u001b[?25l[+] Building 1.1s (1/2)                                          docker:default\n",
      "\u001b[34m => [internal] load build definition from Dockerfile                       0.0s\n",
      "\u001b[0m\u001b[34m => => transferring dockerfile: 418B                                       0.0s\n",
      "\u001b[0m => [internal] load metadata for docker.io/openvino/ubuntu20_runtime:2022  1.1s\n",
      "\u001b[?25h\u001b[1A\u001b[1A\u001b[1A\u001b[1A\u001b[0G\u001b[?25l[+] Building 1.2s (1/2)                                          docker:default\n",
      "\u001b[34m => [internal] load build definition from Dockerfile                       0.0s\n",
      "\u001b[0m\u001b[34m => => transferring dockerfile: 418B                                       0.0s\n",
      "\u001b[0m => [internal] load metadata for docker.io/openvino/ubuntu20_runtime:2022  1.2s\n",
      "\u001b[?25h\u001b[1A\u001b[1A\u001b[1A\u001b[1A\u001b[0G\u001b[?25l[+] Building 1.4s (1/2)                                          docker:default\n",
      "\u001b[34m => [internal] load build definition from Dockerfile                       0.0s\n",
      "\u001b[0m\u001b[34m => => transferring dockerfile: 418B                                       0.0s\n",
      "\u001b[0m => [internal] load metadata for docker.io/openvino/ubuntu20_runtime:2022  1.4s\n",
      "\u001b[?25h\u001b[1A\u001b[1A\u001b[1A\u001b[1A\u001b[0G\u001b[?25l[+] Building 1.5s (1/2)                                          docker:default\n",
      "\u001b[34m => [internal] load build definition from Dockerfile                       0.0s\n",
      "\u001b[0m\u001b[34m => => transferring dockerfile: 418B                                       0.0s\n",
      "\u001b[0m => [internal] load metadata for docker.io/openvino/ubuntu20_runtime:2022  1.5s\n",
      "\u001b[?25h\u001b[1A\u001b[1A\u001b[1A\u001b[1A\u001b[0G\u001b[?25l[+] Building 1.7s (1/2)                                          docker:default\n",
      "\u001b[34m => [internal] load build definition from Dockerfile                       0.0s\n",
      "\u001b[0m\u001b[34m => => transferring dockerfile: 418B                                       0.0s\n",
      "\u001b[0m => [internal] load metadata for docker.io/openvino/ubuntu20_runtime:2022  1.7s\n",
      "\u001b[?25h\u001b[1A\u001b[1A\u001b[1A\u001b[1A\u001b[0G\u001b[?25l[+] Building 1.8s (1/2)                                          docker:default\n",
      "\u001b[34m => [internal] load build definition from Dockerfile                       0.0s\n",
      "\u001b[0m\u001b[34m => => transferring dockerfile: 418B                                       0.0s\n",
      "\u001b[0m => [internal] load metadata for docker.io/openvino/ubuntu20_runtime:2022  1.8s\n",
      "\u001b[?25h\u001b[1A\u001b[1A\u001b[1A\u001b[1A\u001b[0G\u001b[?25l[+] Building 2.0s (1/2)                                          docker:default\n",
      "\u001b[34m => [internal] load build definition from Dockerfile                       0.0s\n",
      "\u001b[0m\u001b[34m => => transferring dockerfile: 418B                                       0.0s\n",
      "\u001b[0m => [internal] load metadata for docker.io/openvino/ubuntu20_runtime:2022  2.0s\n",
      "\u001b[?25h\u001b[1A\u001b[1A\u001b[1A\u001b[1A\u001b[0G\u001b[?25l[+] Building 2.1s (1/2)                                          docker:default\n",
      "\u001b[34m => [internal] load build definition from Dockerfile                       0.0s\n",
      "\u001b[0m\u001b[34m => => transferring dockerfile: 418B                                       0.0s\n",
      "\u001b[0m => [internal] load metadata for docker.io/openvino/ubuntu20_runtime:2022  2.1s\n",
      "\u001b[?25h\u001b[1A\u001b[1A\u001b[1A\u001b[1A\u001b[0G\u001b[?25l[+] Building 2.1s (2/2)                                          docker:default\n",
      "\u001b[34m => [internal] load build definition from Dockerfile                       0.0s\n",
      "\u001b[0m\u001b[34m => => transferring dockerfile: 418B                                       0.0s\n",
      "\u001b[0m\u001b[34m => [internal] load metadata for docker.io/openvino/ubuntu20_runtime:2022  2.1s\n",
      "\u001b[0m\u001b[?25h\u001b[1A\u001b[1A\u001b[1A\u001b[1A\u001b[0G\u001b[?25l[+] Building 2.2s (9/9) FINISHED                                 docker:default\n",
      "\u001b[34m => [internal] load build definition from Dockerfile                       0.0s\n",
      "\u001b[0m\u001b[34m => => transferring dockerfile: 418B                                       0.0s\n",
      "\u001b[0m\u001b[34m => [internal] load metadata for docker.io/openvino/ubuntu20_runtime:2022  2.1s\n",
      "\u001b[0m\u001b[34m => [internal] load .dockerignore                                          0.0s\n",
      "\u001b[0m\u001b[34m => => transferring context: 2B                                            0.0s\n",
      "\u001b[0m\u001b[34m => [1/4] FROM docker.io/openvino/ubuntu20_runtime:2022.3.0@sha256:0cdf91  0.0s\n",
      "\u001b[0m\u001b[34m => [internal] load build context                                          0.0s\n",
      "\u001b[0m\u001b[34m => => transferring context: 66B                                           0.0s\n",
      "\u001b[0m\u001b[34m => CACHED [2/4] RUN apt-get update     && apt-get -y --no-install-recomm  0.0s\n",
      "\u001b[0m\u001b[34m => CACHED [3/4] RUN pip install --no-cache-dir opencv-python-headless pi  0.0s\n",
      "\u001b[0m\u001b[34m => CACHED [4/4] COPY model_loader.py shared.py /opt/nuclio/common/openvi  0.0s\n",
      "\u001b[0m\u001b[34m => exporting to image                                                     0.0s\n",
      "\u001b[0m\u001b[34m => => exporting layers                                                    0.0s\n",
      "\u001b[0m\u001b[34m => => writing image sha256:a879639039a828d09cfea3f263e6294bf0b800abb9efe  0.0s\n",
      "\u001b[0m\u001b[34m => => naming to docker.io/library/cvat.openvino.base                      0.0s\n",
      "\u001b[0m\u001b[?25h24.04.01 09:50:08.883 \u001b[37m                    nuctl\u001b[0m \u001b[34m(I)\u001b[0m Project created {\"Name\": \"cvat\", \"Namespace\": \"nuclio\"}\n",
      "Deploying unet-coco-20th-march function...\n",
      "24.04.01 09:50:08.996 \u001b[37m                    nuctl\u001b[0m \u001b[34m(I)\u001b[0m Deploying function {\"name\": \"unet-coco\"}\n",
      "24.04.01 09:50:08.996 \u001b[37m                    nuctl\u001b[0m \u001b[34m(I)\u001b[0m Building {\"builderKind\": \"docker\", \"versionInfo\": \"Label: 1.11.24, Git commit: f2a3900d23b92fd3639dc9cb765044ef53a4fb2b, OS: linux, Arch: amd64, Go version: go1.19.10\", \"name\": \"unet-coco\"}\n",
      "24.04.01 09:50:09.070 \u001b[37m                    nuctl\u001b[0m \u001b[34m(I)\u001b[0m Staging files and preparing base images\n",
      "24.04.01 09:50:09.071 \u001b[37m                    nuctl\u001b[0m \u001b[34m(I)\u001b[0m Building processor image {\"registryURL\": \"\", \"taggedImageName\": \"cvat.unet-coco:latest\"}\n",
      "24.04.01 09:50:09.071 \u001b[37m    nuctl.platform.docker\u001b[0m \u001b[34m(I)\u001b[0m Pulling image {\"imageName\": \"quay.io/nuclio/handler-builder-python-onbuild:1.11.24-amd64\"}\n",
      "24.04.01 09:50:13.078 \u001b[37m    nuctl.platform.docker\u001b[0m \u001b[34m(I)\u001b[0m Pulling image {\"imageName\": \"quay.io/nuclio/uhttpc:0.0.1-amd64\"}\n"
     ]
    },
    {
     "name": "stdout",
     "output_type": "stream",
     "text": [
      "24.04.01 09:50:16.974 \u001b[37m           nuctl.platform\u001b[0m \u001b[34m(I)\u001b[0m Building docker image {\"image\": \"cvat.unet-coco:latest\"}\n",
      "24.04.01 09:50:19.244 \u001b[37m           nuctl.platform\u001b[0m \u001b[34m(I)\u001b[0m Pushing docker image into registry {\"image\": \"cvat.unet-coco:latest\", \"registry\": \"\"}\n",
      "24.04.01 09:50:19.244 \u001b[37m           nuctl.platform\u001b[0m \u001b[34m(I)\u001b[0m Docker image was successfully built and pushed into docker registry {\"image\": \"cvat.unet-coco:latest\"}\n",
      "24.04.01 09:50:19.244 \u001b[37m                    nuctl\u001b[0m \u001b[34m(I)\u001b[0m Build complete {\"image\": \"cvat.unet-coco:latest\"}\n",
      "24.04.01 09:50:19.249 \u001b[37m                    nuctl\u001b[0m \u001b[34m(I)\u001b[0m Cleaning up before deployment {\"functionName\": \"unet-coco\"}\n",
      "24.04.01 09:50:19.266 \u001b[37m                    nuctl\u001b[0m \u001b[34m(I)\u001b[0m Function already exists, deleting function containers {\"functionName\": \"unet-coco\"}\n",
      "24.04.01 09:50:20.283 \u001b[37m           nuctl.platform\u001b[0m \u001b[34m(I)\u001b[0m Waiting for function to be ready {\"timeout\": 120}\n",
      "24.04.01 09:50:21.968 \u001b[37m                    nuctl\u001b[0m \u001b[34m(I)\u001b[0m Function deploy complete {\"functionName\": \"unet-coco\", \"httpPort\": 12345, \"internalInvocationURLs\": [\"172.17.0.5:8080\"], \"externalInvocationURLs\": [\"0.0.0.0:12345\"]}\n",
      " NAMESPACE | NAME           | PROJECT | STATE | REPLICAS | NODE PORT \n",
      " nuclio    | openvino-dextr | cvat    | ready | 1/1      | 32768     \n",
      " nuclio    | unet-coco      | cvat    | ready | 1/1      | 12345     \n"
     ]
    }
   ],
   "source": [
    "!./cvat/serverless/deploy_cpu.sh ./cvat/serverless/unet-coco-20th-march/"
   ]
  },
  {
   "cell_type": "markdown",
   "id": "86f8b115",
   "metadata": {},
   "source": [
    "### Open the Job in CVAT and Select AI Tools --> Detectors --> U-Net. \n",
    "#### Select \"defect\" in both the dropdowns and check the \"Convert masks to polygons\" option.\n",
    "#### Press \"Annotate\" and then make the necessary changes manually."
   ]
  },
  {
   "cell_type": "markdown",
   "id": "22cb3b08",
   "metadata": {},
   "source": [
    "### After the manual correction, press the \"Menu\" option, Select \"Export job dataset\", in the Export format, Scroll down to \"Segmentation mask 1.1\", type in the name for the zip file and click \"OK\"."
   ]
  },
  {
   "cell_type": "code",
   "execution_count": 7,
   "id": "e7241f52",
   "metadata": {},
   "outputs": [
    {
     "name": "stdout",
     "output_type": "stream",
     "text": [
      "Number of files in the folder './Annotated Images/Masks': 1\n",
      "Number of files in the folder './Annotated Images/Images': 1\n"
     ]
    }
   ],
   "source": [
    "new_folder_path = './Annotated Images'\n",
    "\n",
    "count_files_in_folder(new_folder_path)"
   ]
  },
  {
   "cell_type": "code",
   "execution_count": 12,
   "id": "c3a303af",
   "metadata": {},
   "outputs": [],
   "source": [
    "new_model = tf.keras.models.load_model('model_new.keras')"
   ]
  },
  {
   "cell_type": "markdown",
   "id": "7e717e85",
   "metadata": {},
   "source": [
    "### Loading the new data for training the model."
   ]
  },
  {
   "cell_type": "code",
   "execution_count": 4,
   "id": "47c74f5f",
   "metadata": {},
   "outputs": [
    {
     "name": "stdout",
     "output_type": "stream",
     "text": [
      "(1, 480, 640, 1) (1, 480, 640, 1)\n"
     ]
    }
   ],
   "source": [
    "# Load the new data for training the model.\n",
    "images, masks = load_images_and_masks(new_folder_path)\n",
    "print(images.shape, masks.shape)"
   ]
  },
  {
   "cell_type": "markdown",
   "id": "3296b704",
   "metadata": {},
   "source": [
    "### Training the model on new data."
   ]
  },
  {
   "cell_type": "code",
   "execution_count": 7,
   "id": "bd292dd3",
   "metadata": {},
   "outputs": [
    {
     "name": "stdout",
     "output_type": "stream",
     "text": [
      "Epoch 1/10\n",
      "1/1 [==============================] - 20s 20s/step - loss: 0.1488 - accuracy: 0.9720\n",
      "Epoch 2/10\n",
      "1/1 [==============================] - 21s 21s/step - loss: 0.1382 - accuracy: 0.9727\n",
      "Epoch 3/10\n",
      "1/1 [==============================] - 33s 33s/step - loss: 0.1305 - accuracy: 0.9736\n",
      "Epoch 4/10\n",
      "1/1 [==============================] - 44s 44s/step - loss: 0.1261 - accuracy: 0.9741\n",
      "Epoch 5/10\n",
      "1/1 [==============================] - 51s 51s/step - loss: 0.1207 - accuracy: 0.9743\n",
      "Epoch 6/10\n",
      "1/1 [==============================] - 36s 36s/step - loss: 0.1149 - accuracy: 0.9744\n",
      "Epoch 7/10\n",
      "1/1 [==============================] - 34s 34s/step - loss: 0.1107 - accuracy: 0.9746\n",
      "Epoch 8/10\n",
      "1/1 [==============================] - 36s 36s/step - loss: 0.1081 - accuracy: 0.9747\n",
      "Epoch 9/10\n",
      "1/1 [==============================] - 30s 30s/step - loss: 0.1058 - accuracy: 0.9748\n",
      "Epoch 10/10\n",
      "1/1 [==============================] - 32s 32s/step - loss: 0.1024 - accuracy: 0.9750\n"
     ]
    }
   ],
   "source": [
    "# Train the model \n",
    "history = new_model.fit(images, masks, epochs=10, batch_size=1)"
   ]
  },
  {
   "cell_type": "code",
   "execution_count": 8,
   "id": "c93471a7",
   "metadata": {},
   "outputs": [],
   "source": [
    "# save the model as model_new.keras\n",
    "new_model.save(\"model_new.keras\")"
   ]
  },
  {
   "cell_type": "code",
   "execution_count": 14,
   "id": "a76fcba7",
   "metadata": {},
   "outputs": [
    {
     "data": {
      "application/javascript": "document.getElementById(\"target_cell\").scrollIntoView()",
      "text/plain": [
       "<IPython.core.display.Javascript object>"
      ]
     },
     "metadata": {},
     "output_type": "display_data"
    }
   ],
   "source": [
    "from IPython.display import display, Javascript\n",
    "\n",
    "display(Javascript('document.getElementById(\"target_cell\").scrollIntoView()'))"
   ]
  },
  {
   "cell_type": "code",
   "execution_count": null,
   "id": "cb460117-1547-4270-a400-38cdb11c2e7d",
   "metadata": {},
   "outputs": [],
   "source": []
  }
 ],
 "metadata": {
  "kernelspec": {
   "display_name": "Python 3 (ipykernel)",
   "language": "python",
   "name": "python3"
  },
  "language_info": {
   "codemirror_mode": {
    "name": "ipython",
    "version": 3
   },
   "file_extension": ".py",
   "mimetype": "text/x-python",
   "name": "python",
   "nbconvert_exporter": "python",
   "pygments_lexer": "ipython3",
   "version": "3.9.16"
  }
 },
 "nbformat": 4,
 "nbformat_minor": 5
}
